{
 "cells": [
  {
   "cell_type": "code",
   "execution_count": 39,
   "metadata": {},
   "outputs": [
    {
     "name": "stdout",
     "output_type": "stream",
     "text": [
      "[[ 0.     0.     0.     0.27   0.   ]\n",
      " [ 0.     0.     0.369  0.     0.24 ]\n",
      " [ 0.     0.369  0.     0.292  0.   ]\n",
      " [ 0.27   0.     0.292  0.     0.294]\n",
      " [ 0.     0.24   0.     0.294  0.   ]]\n"
     ]
    }
   ],
   "source": [
    "import numpy\n",
    "A = numpy.matrix([[0, 0, 0, 0.270, 0], \n",
    "                  [0, 0, 0.369, 0, 0.240], \n",
    "                  [0, 0.369, 0, 0.292, 0], \n",
    "                  [0.270, 0, 0.292, 0, 0.294],\n",
    "                  [0, 0.240, 0, 0.294, 0]])\n",
    "print(A)\n",
    "subtasks = []\n",
    "s = 1;\n",
    "\n",
    "rows = A.shape[0]\n",
    "n = rows\n",
    "cols = A.shape[1]"
   ]
  },
  {
   "cell_type": "code",
   "execution_count": 40,
   "metadata": {
    "collapsed": true
   },
   "outputs": [],
   "source": [
    "def renew_divider(ind, A):\n",
    "    i = ind[0]\n",
    "    j = ind[1]\n",
    "    for k in range(n):\n",
    "        if k != i and k != j and A[k, i] != 0 and A[k, j] != 0 and i != j:\n",
    "            A[i, j] += max(A[k, i], A[k, j])\n",
    "    A[i, j] = A[i, j] / kollist[i, j]\n",
    "    return A[i, j]"
   ]
  },
  {
   "cell_type": "code",
   "execution_count": 50,
   "metadata": {
    "collapsed": true
   },
   "outputs": [],
   "source": [
    "def count_badness(ind, A):\n",
    "    i = ind[0]\n",
    "    j = ind[1]\n",
    "    sigma = []\n",
    "    for k in range(n):\n",
    "        if k!=i and k != j and A[k, i] != 0 and A[k, j] != 0 and i != j:\n",
    "            lst = [A[k, i], A[k, j], A[i, j]]\n",
    "            lst.sort()\n",
    "            a = lst[2]\n",
    "            b = lst[1]\n",
    "            c = lst[0]\n",
    "            sigma.append((a - b)/c)\n",
    "    return max(sigma)\n",
    "            "
   ]
  },
  {
   "cell_type": "code",
   "execution_count": 51,
   "metadata": {
    "collapsed": true
   },
   "outputs": [],
   "source": [
    "def count_kol(A, i, j):\n",
    "    kol = 0\n",
    "    for k in range(n):\n",
    "        if k!=i and k != j and A[k, i] != 0 and A[k, j] != 0 and i != j:\n",
    "            kol +=1 \n",
    "    return kol"
   ]
  },
  {
   "cell_type": "code",
   "execution_count": 52,
   "metadata": {
    "collapsed": true
   },
   "outputs": [],
   "source": [
    "def create_kollist(A):\n",
    "    lst = []\n",
    "    for i in range(n):\n",
    "        row = []\n",
    "        for j in range(n):\n",
    "            row.append(count_kol(A, i, j))\n",
    "        lst.append(row)\n",
    "    return numpy.matrix(lst)\n",
    "    "
   ]
  },
  {
   "cell_type": "code",
   "execution_count": 53,
   "metadata": {
    "collapsed": true
   },
   "outputs": [],
   "source": [
    "def count_def(A, i, j):\n",
    "    max_def = 0\n",
    "    for k in range(n):\n",
    "        if k!=i and k != j and A[k, i] != 0 and A[k, j] != 0 and i != j:\n",
    "            m = abs(A[k, i] - A[k, j])\n",
    "            max_def = max(m, max_def)\n",
    "    return max_def"
   ]
  },
  {
   "cell_type": "code",
   "execution_count": 54,
   "metadata": {
    "collapsed": true
   },
   "outputs": [],
   "source": [
    "def create_deflist(A):\n",
    "    lst = []\n",
    "    for i in range(n):\n",
    "        row = []\n",
    "        for j in range(n):\n",
    "            row.append(count_def(A, i, j))\n",
    "        lst.append(row)\n",
    "    return numpy.matrix(lst)"
   ]
  },
  {
   "cell_type": "code",
   "execution_count": 55,
   "metadata": {
    "collapsed": true
   },
   "outputs": [],
   "source": [
    "kollist = create_kollist(A)\n",
    "\n",
    "def choose_divide(A):\n",
    "    max_kol = kollist.max()\n",
    "    deflist = create_deflist(A)\n",
    "    for i in range(n):\n",
    "        for j in range(n):\n",
    "            if kollist[i, j] != max_kol:\n",
    "                deflist[i, j] = 0\n",
    "    max_def = deflist.max()\n",
    "    for i in range(n):\n",
    "        for j in range(n):\n",
    "            if max_def == deflist[i,j]:\n",
    "                return(i, j)\n",
    "    return None"
   ]
  },
  {
   "cell_type": "code",
   "execution_count": 56,
   "metadata": {},
   "outputs": [],
   "source": [
    "chosen = choose_divide(A)"
   ]
  },
  {
   "cell_type": "code",
   "execution_count": 61,
   "metadata": {},
   "outputs": [
    {
     "name": "stdout",
     "output_type": "stream",
     "text": [
      "0.580125\n",
      "[[ 0.        0.        0.        0.27      0.      ]\n",
      " [ 0.        0.        0.369     0.        0.24    ]\n",
      " [ 0.        0.369     0.        0.292     0.580125]\n",
      " [ 0.27      0.        0.292     0.        0.294   ]\n",
      " [ 0.        0.24      0.580125  0.294     0.      ]]\n"
     ]
    }
   ],
   "source": [
    "new_a = renew_divider(chosen, A)\n",
    "A[chosen] = new_a\n",
    "A[chosen[::-1]] = new_a\n",
    "print (A[chosen])\n",
    "print (A)"
   ]
  },
  {
   "cell_type": "code",
   "execution_count": 58,
   "metadata": {},
   "outputs": [
    {
     "name": "stdout",
     "output_type": "stream",
     "text": [
      "0.696061643836\n"
     ]
    }
   ],
   "source": [
    "print(count_badness(chosen, A))"
   ]
  },
  {
   "cell_type": "code",
   "execution_count": null,
   "metadata": {
    "collapsed": true
   },
   "outputs": [],
   "source": []
  }
 ],
 "metadata": {
  "kernelspec": {
   "display_name": "Python 3",
   "language": "python",
   "name": "python3"
  },
  "language_info": {
   "codemirror_mode": {
    "name": "ipython",
    "version": 3
   },
   "file_extension": ".py",
   "mimetype": "text/x-python",
   "name": "python",
   "nbconvert_exporter": "python",
   "pygments_lexer": "ipython3",
   "version": "3.6.3"
  }
 },
 "nbformat": 4,
 "nbformat_minor": 2
}
