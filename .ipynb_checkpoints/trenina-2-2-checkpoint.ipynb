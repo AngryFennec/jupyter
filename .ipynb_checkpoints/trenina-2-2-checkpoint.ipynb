{
 "cells": [
  {
   "cell_type": "code",
   "execution_count": 9,
   "metadata": {},
   "outputs": [
    {
     "name": "stdout",
     "output_type": "stream",
     "text": [
      "[[ 0.      0.      0.      0.      0.      0.      0.285 ]\n",
      " [ 0.      0.      0.369   0.      0.24    0.209   0.    ]\n",
      " [ 0.      0.369   0.      0.      0.      0.      0.    ]\n",
      " [ 0.      0.      0.      0.      0.294   0.348   0.292 ]\n",
      " [ 0.      0.24    0.      0.294   0.      0.      0.3177]\n",
      " [ 0.      0.209   0.      0.348   0.      0.      0.    ]\n",
      " [ 0.285   0.      0.      0.292   0.3177  0.      0.    ]]\n"
     ]
    }
   ],
   "source": [
    "import numpy\n",
    "A = numpy.matrix([[0, 0, 0, 0, 0, 0, 0.285], \n",
    "                  [0, 0, 0.369, 0, 0.240, 0.209, 0], \n",
    "                  [0, 0.369, 0, 0, 0, 0, 0], \n",
    "                  [0, 0, 0, 0, 0.294, 0.348, 0.292],\n",
    "                  [0, 0.24, 0, 0.294, 0, 0, 0.3177],\n",
    "                  [0, 0.209, 0, 0.348, 0, 0, 0],\n",
    "                  [0.285, 0, 0, 0.292, 0.3177, 0, 0]])\n",
    "print(A)\n",
    "subtasks = []\n",
    "s = 1;\n",
    "\n",
    "rows = A.shape[0]\n",
    "n = rows\n",
    "cols = A.shape[1]"
   ]
  },
  {
   "cell_type": "code",
   "execution_count": 10,
   "metadata": {
    "collapsed": true
   },
   "outputs": [],
   "source": [
    "def count_kol(A, i, j):\n",
    "    kol = 0\n",
    "    for k in range(n):\n",
    "        if k!=i and k != j and A[k, i] != 0 and A[k, j] != 0 and i != j:\n",
    "            kol +=1 \n",
    "    return kol"
   ]
  },
  {
   "cell_type": "code",
   "execution_count": 11,
   "metadata": {
    "collapsed": true
   },
   "outputs": [],
   "source": [
    "def create_kollist(A):\n",
    "    lst = []\n",
    "    for i in range(n):\n",
    "        row = []\n",
    "        for j in range(n):\n",
    "            row.append(count_kol(A, i, j))\n",
    "        lst.append(row)\n",
    "    return numpy.matrix(lst)\n",
    "    "
   ]
  },
  {
   "cell_type": "code",
   "execution_count": 12,
   "metadata": {
    "collapsed": true
   },
   "outputs": [],
   "source": [
    "def count_def(A, i, j):\n",
    "    max_def = 0\n",
    "    for k in range(n):\n",
    "        if k!=i and k != j and A[k, i] != 0 and A[k, j] != 0 and i != j:\n",
    "            m = abs(A[k, i] - A[k, j])\n",
    "            max_def = max(m, max_def)\n",
    "    return max_def"
   ]
  },
  {
   "cell_type": "code",
   "execution_count": 13,
   "metadata": {
    "collapsed": true
   },
   "outputs": [],
   "source": [
    "def create_deflist(A):\n",
    "    lst = []\n",
    "    for i in range(n):\n",
    "        row = []\n",
    "        for j in range(n):\n",
    "            row.append(count_def(A, i, j))\n",
    "        lst.append(row)\n",
    "    return numpy.matrix(lst)"
   ]
  },
  {
   "cell_type": "code",
   "execution_count": 14,
   "metadata": {
    "collapsed": true
   },
   "outputs": [],
   "source": [
    "def choose_divide(A):\n",
    "    kollist = create_kollist(A)\n",
    "    max_kol = kollist.max()\n",
    "    deflist = create_deflist(A)\n",
    "    for i in range(n):\n",
    "        for j in range(n):\n",
    "            if kollist[i, j] != max_kol:\n",
    "                deflist[i, j] = 0\n",
    "    max_def = deflist.max()\n",
    "    for i in range(n):\n",
    "        for j in range(n):\n",
    "            if max_def == deflist[i,j]:\n",
    "                return(i, j)\n",
    "    return None"
   ]
  },
  {
   "cell_type": "code",
   "execution_count": 15,
   "metadata": {},
   "outputs": [
    {
     "name": "stdout",
     "output_type": "stream",
     "text": [
      "(1, 3)\n"
     ]
    }
   ],
   "source": [
    "print(choose_divide(A))"
   ]
  },
  {
   "cell_type": "code",
   "execution_count": null,
   "metadata": {
    "collapsed": true
   },
   "outputs": [],
   "source": []
  }
 ],
 "metadata": {
  "kernelspec": {
   "display_name": "Python 3",
   "language": "python",
   "name": "python3"
  },
  "language_info": {
   "codemirror_mode": {
    "name": "ipython",
    "version": 3
   },
   "file_extension": ".py",
   "mimetype": "text/x-python",
   "name": "python",
   "nbconvert_exporter": "python",
   "pygments_lexer": "ipython3",
   "version": "3.6.3"
  }
 },
 "nbformat": 4,
 "nbformat_minor": 2
}
