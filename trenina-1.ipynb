{
 "cells": [
  {
   "cell_type": "code",
   "execution_count": 131,
   "metadata": {},
   "outputs": [
    {
     "name": "stdout",
     "output_type": "stream",
     "text": [
      "[[ 0.      0.      0.      0.      0.      0.      0.285 ]\n",
      " [ 0.      0.      0.369   0.      0.24    0.209   0.    ]\n",
      " [ 0.      0.369   0.      0.      0.      0.      0.    ]\n",
      " [ 0.      0.      0.      0.      0.294   0.348   0.292 ]\n",
      " [ 0.      0.24    0.      0.294   0.      0.      0.3177]\n",
      " [ 0.      0.209   0.      0.348   0.      0.      0.    ]\n",
      " [ 0.285   0.      0.      0.292   0.3177  0.      0.    ]]\n"
     ]
    }
   ],
   "source": [
    "import numpy\n",
    "A = numpy.matrix([[0, 0, 0, 0, 0, 0, 0.285], \n",
    "                  [0, 0, 0.369, 0, 0.240, 0.209, 0], \n",
    "                  [0, 0.369, 0, 0, 0, 0, 0], \n",
    "                  [0, 0, 0, 0, 0.294, 0.348, 0.292],\n",
    "                  [0, 0.24, 0, 0.294, 0, 0, 0.3177],\n",
    "                  [0, 0.209, 0, 0.348, 0, 0, 0],\n",
    "                  [0.285, 0, 0, 0.292, 0.3177, 0, 0]])\n",
    "print(A)\n",
    "R = [A];\n",
    "p = 0.1;\n",
    "s = 1;\n",
    "\n",
    "rows = A.shape[0]\n",
    "cols = A.shape[1]"
   ]
  },
  {
   "cell_type": "code",
   "execution_count": 132,
   "metadata": {},
   "outputs": [],
   "source": [
    "def count_zeros(A):\n",
    "    zero_elements = 0\n",
    "    for i in range(rows):\n",
    "        for j in range(cols):\n",
    "            if (i < j and A[i,j] == 0):\n",
    "                zero_elements+=1;\n",
    "    return zero_elements;\n"
   ]
  },
  {
   "cell_type": "code",
   "execution_count": 133,
   "metadata": {},
   "outputs": [
    {
     "data": {
      "text/plain": [
       "13"
      ]
     },
     "execution_count": 133,
     "metadata": {},
     "output_type": "execute_result"
    }
   ],
   "source": [
    "count_zeros(A)"
   ]
  },
  {
   "cell_type": "code",
   "execution_count": 134,
   "metadata": {
    "collapsed": true
   },
   "outputs": [],
   "source": [
    "def count_E(k, ind):\n",
    "    c = [1]\n",
    "    up = 0;\n",
    "    down = 0;\n",
    "    for i in range (1, s):\n",
    "        c[i] = c[i-1] * p;\n",
    "    for i in range (s):\n",
    "        down += c[i]\n",
    "        up += c[i] * (R[i])[k, ind]\n",
    "    E = up / down\n",
    "    print(E)\n",
    "    return E"
   ]
  },
  {
   "cell_type": "code",
   "execution_count": 135,
   "metadata": {
    "collapsed": true
   },
   "outputs": [],
   "source": [
    "def renew_matrix(A):\n",
    "    for i in range(rows):\n",
    "        for j in range(cols):\n",
    "            b = []\n",
    "            if A[i,j] == 0 and i != j:\n",
    "                count = 0\n",
    "                #print(A)\n",
    "                for k in range(0, rows):\n",
    "                   # print(k, i, j)\n",
    "                   # print(\"els \", A[k, i], A[k, j])\n",
    "                    if A[k, i] != 0 and A[k, j] != 0 and k != i and k != j:\n",
    "                        count += 1\n",
    "                        E_ki = count_E(k, i)\n",
    "                        E_kj = count_E(k, j)\n",
    "                        if E_ki > E_kj:\n",
    "                            b.append(E_ki)\n",
    "                        else:\n",
    "                            b.append(E_kj)\n",
    "                if (count != 0 and i!=j):\n",
    "                    A[i,j] = sum(b)/count  \n",
    "    return A\n",
    "                        "
   ]
  },
  {
   "cell_type": "code",
   "execution_count": 136,
   "metadata": {},
   "outputs": [
    {
     "name": "stdout",
     "output_type": "stream",
     "text": [
      "0.285\n",
      "0.292\n",
      "0.285\n",
      "0.3177\n",
      "0.24\n",
      "0.294\n",
      "0.209\n",
      "0.348\n",
      "0.24\n",
      "0.3177\n",
      "0.369\n",
      "0.321\n",
      "0.369\n",
      "0.24\n",
      "0.369\n",
      "0.209\n",
      "0.369\n",
      "0.3177\n",
      "0.292\n",
      "0.285\n",
      "0.369\n",
      "0.369\n",
      "0.294\n",
      "0.24\n",
      "0.348\n",
      "0.209\n",
      "0.321\n",
      "0.369\n",
      "0.294\n",
      "0.292\n",
      "0.3177\n",
      "0.285\n",
      "0.24\n",
      "0.369\n",
      "0.294\n",
      "0.369\n",
      "0.24\n",
      "0.209\n",
      "0.369\n",
      "0.369\n",
      "0.294\n",
      "0.348\n",
      "0.348\n",
      "0.292\n",
      "0.319\n",
      "0.30585\n",
      "0.209\n",
      "0.369\n",
      "0.348\n",
      "0.369\n",
      "0.319\n",
      "0.369\n",
      "0.209\n",
      "0.24\n",
      "0.369\n",
      "0.369\n",
      "0.348\n",
      "0.294\n",
      "0.209\n",
      "0.3177\n",
      "0.369\n",
      "0.369\n",
      "0.348\n",
      "0.292\n",
      "0.319\n",
      "0.3177\n",
      "0.369\n",
      "0.369\n",
      "0.292\n",
      "0.337\n",
      "0.3177\n",
      "0.24\n",
      "0.338425\n",
      "0.209\n",
      "0.3177\n",
      "0.369\n",
      "0.292\n",
      "0.369\n",
      "0.3177\n",
      "0.369\n",
      "0.338425\n",
      "0.369\n",
      "0.3177\n",
      "0.209\n",
      "0.369\n",
      "0.369\n",
      "0.292\n",
      "0.348\n",
      "0.3177\n",
      "0.319\n",
      "3\n",
      "0.292\n",
      "0.337\n",
      "0.30585\n",
      "0.24\n",
      "0.3335\n",
      "0.209\n",
      "0.285\n",
      "0.34053125\n",
      "0.292\n",
      "0.369\n",
      "0.30585\n",
      "0.369\n",
      "0.3335\n",
      "0.369\n",
      "0.285\n",
      "0.369\n",
      "0.292\n",
      "0.348\n",
      "0.30585\n",
      "0.319\n",
      "0.285\n",
      "0.338425\n",
      "0.337\n",
      "0.292\n",
      "0.24\n",
      "0.30585\n",
      "0.209\n",
      "0.3335\n",
      "0.34053125\n",
      "0.285\n",
      "0.369\n",
      "0.3292203125\n",
      "0.369\n",
      "0.292\n",
      "0.369\n",
      "0.30585\n",
      "0.369\n",
      "0.3335\n",
      "0.369\n",
      "0.285\n"
     ]
    }
   ],
   "source": [
    "h = count_zeros(A)\n",
    "new_h = 0\n",
    "while h != 0 or new_h != h:\n",
    "    R.append(renew_matrix(A))\n",
    "    new_h = count_zeros(R[-1])\n",
    "    if (new_h == 0):\n",
    "        break\n",
    "    print(new_h)\n",
    "    "
   ]
  },
  {
   "cell_type": "code",
   "execution_count": 137,
   "metadata": {},
   "outputs": [
    {
     "name": "stdout",
     "output_type": "stream",
     "text": [
      "[[ 0.          0.32922031  0.369       0.292       0.3177      0.33514167\n",
      "   0.285     ]\n",
      " [ 0.32922031  0.          0.369       0.321       0.24        0.209\n",
      "   0.3177    ]\n",
      " [ 0.369       0.369       0.          0.369       0.369       0.369       0.369     ]\n",
      " [ 0.292       0.337       0.369       0.          0.294       0.348       0.292     ]\n",
      " [ 0.30585     0.24        0.369       0.294       0.          0.319\n",
      "   0.3177    ]\n",
      " [ 0.3335      0.209       0.369       0.348       0.319       0.          0.338425  ]\n",
      " [ 0.285       0.34053125  0.369       0.292       0.3177      0.338425    0.        ]]\n"
     ]
    }
   ],
   "source": [
    "print(A)"
   ]
  },
  {
   "cell_type": "code",
   "execution_count": null,
   "metadata": {
    "collapsed": true
   },
   "outputs": [],
   "source": []
  },
  {
   "cell_type": "code",
   "execution_count": null,
   "metadata": {
    "collapsed": true
   },
   "outputs": [],
   "source": []
  }
 ],
 "metadata": {
  "kernelspec": {
   "display_name": "Python 3",
   "language": "python",
   "name": "python3"
  },
  "language_info": {
   "codemirror_mode": {
    "name": "ipython",
    "version": 3
   },
   "file_extension": ".py",
   "mimetype": "text/x-python",
   "name": "python",
   "nbconvert_exporter": "python",
   "pygments_lexer": "ipython3",
   "version": "3.6.1"
  }
 },
 "nbformat": 4,
 "nbformat_minor": 2
}
