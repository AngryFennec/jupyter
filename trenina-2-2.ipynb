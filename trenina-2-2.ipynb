{
 "cells": [
  {
   "cell_type": "code",
   "execution_count": 171,
   "metadata": {},
   "outputs": [
    {
     "name": "stdout",
     "output_type": "stream",
     "text": [
      "[[ 0.     0.     0.     0.27   0.   ]\n",
      " [ 0.     0.     0.369  0.     0.24 ]\n",
      " [ 0.     0.369  0.     0.292  0.   ]\n",
      " [ 0.27   0.     0.292  0.     0.294]\n",
      " [ 0.     0.24   0.     0.294  0.   ]]\n"
     ]
    }
   ],
   "source": [
    "import numpy\n",
    "A = numpy.matrix([[0, 0, 0, 0.270, 0], \n",
    "                  [0, 0, 0.369, 0, 0.240], \n",
    "                  [0, 0.369, 0, 0.292, 0], \n",
    "                  [0.270, 0, 0.292, 0, 0.294],\n",
    "                  [0, 0.240, 0, 0.294, 0]])\n",
    "print(A)\n",
    "subtasks = [A]\n",
    "chosen = ''\n",
    "s = 1;\n",
    "\n",
    "rows = A.shape[0]\n",
    "n = rows\n",
    "cols = A.shape[1]"
   ]
  },
  {
   "cell_type": "code",
   "execution_count": 172,
   "metadata": {
    "collapsed": true
   },
   "outputs": [],
   "source": [
    "def renew_divider(ind, A):\n",
    "    i = ind[0]\n",
    "    j = ind[1]\n",
    "    for k in range(n):\n",
    "        if k != i and k != j and A[k, i] != 0 and A[k, j] != 0 and i != j:\n",
    "            A[i, j] += max(A[k, i], A[k, j])\n",
    "    new_divider = A[i, j] / kollist[i, j]\n",
    "    return new_divider"
   ]
  },
  {
   "cell_type": "code",
   "execution_count": 173,
   "metadata": {
    "collapsed": true
   },
   "outputs": [],
   "source": [
    "def count_badness(ind, A):\n",
    "    i = ind[0]\n",
    "    j = ind[1]\n",
    "    sigma = []\n",
    "    for k in range(n):\n",
    "        if k!=i and k != j and A[k, i] != 0 and A[k, j] != 0 and i != j:\n",
    "            lst = [A[k, i], A[k, j], A[i, j]]\n",
    "            lst.sort()\n",
    "            a = lst[2]\n",
    "            b = lst[1]\n",
    "            c = lst[0]\n",
    "            sigma.append((a - b)/c)\n",
    "    return max(sigma)\n",
    "            "
   ]
  },
  {
   "cell_type": "code",
   "execution_count": 174,
   "metadata": {
    "collapsed": true
   },
   "outputs": [],
   "source": [
    "def count_kol(A, i, j):\n",
    "    kol = 0\n",
    "    for k in range(n):\n",
    "        if k!=i and k != j and A[k, i] != 0 and A[k, j] != 0 and i != j:\n",
    "            kol +=1 \n",
    "    return kol"
   ]
  },
  {
   "cell_type": "code",
   "execution_count": 175,
   "metadata": {
    "collapsed": true
   },
   "outputs": [],
   "source": [
    "def create_kollist(A):\n",
    "    lst = []\n",
    "    for i in range(n):\n",
    "        row = []\n",
    "        for j in range(n):\n",
    "            row.append(count_kol(A, i, j))\n",
    "        lst.append(row)\n",
    "    return numpy.matrix(lst)\n",
    "    "
   ]
  },
  {
   "cell_type": "code",
   "execution_count": 176,
   "metadata": {
    "collapsed": true
   },
   "outputs": [],
   "source": [
    "def count_def(A, i, j):\n",
    "    max_def = 0\n",
    "    for k in range(n):\n",
    "        if k!=i and k != j and A[k, i] != 0 and A[k, j] != 0 and i != j:\n",
    "            m = abs(A[k, i] - A[k, j])\n",
    "            max_def = max(m, max_def)\n",
    "    return max_def"
   ]
  },
  {
   "cell_type": "code",
   "execution_count": 177,
   "metadata": {
    "collapsed": true
   },
   "outputs": [],
   "source": [
    "def create_deflist(A):\n",
    "    lst = []\n",
    "    for i in range(n):\n",
    "        row = []\n",
    "        for j in range(n):\n",
    "            row.append(count_def(A, i, j))\n",
    "        lst.append(row)\n",
    "    return numpy.matrix(lst)"
   ]
  },
  {
   "cell_type": "code",
   "execution_count": 178,
   "metadata": {},
   "outputs": [],
   "source": [
    "def choose_divide(A, deflist):\n",
    "    for i in range(n):\n",
    "        for j in range(n):\n",
    "            if kollist[i, j] != max_kol:\n",
    "                deflist[i, j] = 0\n",
    "    max_def = deflist.max()\n",
    "    for i in range(n):\n",
    "        for j in range(n):\n",
    "            if max_def == deflist[i,j]:\n",
    "                return(i, j)\n",
    "    return None"
   ]
  },
  {
   "cell_type": "code",
   "execution_count": 179,
   "metadata": {
    "collapsed": true
   },
   "outputs": [],
   "source": [
    "def choose_new_divide(A, ind):\n",
    "    not_i = ind[0]\n",
    "    not_j = ind[1]\n",
    "    kollist = create_kollist(M)\n",
    "    max_kol = kollist.max()\n",
    "    deflist = create_deflist(M)\n",
    "    for i in range(n):\n",
    "        for j in range(n):\n",
    "            if kollist[i, j] != max_kol:\n",
    "                deflist[i, j] = 0\n",
    "                deflist[j, i] = 0\n",
    "    deflist[not_i, not_j] = 0\n",
    "    deflist[not_j, not_i] = 0\n",
    "    max_def = deflist.max()\n",
    "    for i in range(n):\n",
    "        for j in range(n):\n",
    "            if max_def == deflist[i,j]:\n",
    "                return(i, j)\n",
    "    return None"
   ]
  },
  {
   "cell_type": "code",
   "execution_count": 180,
   "metadata": {
    "collapsed": true
   },
   "outputs": [],
   "source": [
    "def make_right(M):\n",
    "    kollist = create_kollist(M)\n",
    "    max_kol = kollist.max()\n",
    "    deflist = create_deflist(M)\n",
    "    chosen = choose_divide(M, deflist)\n",
    "    print(chosen, \" right\")\n",
    "    if (chosen != None and chosen !=(0, 0)):\n",
    "        new_a = renew_divider(chosen, M)\n",
    "        M[chosen] = new_a\n",
    "        M[chosen[::-1]] = new_a\n",
    "        subtasks.append(M)"
   ]
  },
  {
   "cell_type": "code",
   "execution_count": 181,
   "metadata": {
    "collapsed": true
   },
   "outputs": [],
   "source": [
    "def make_left(M):\n",
    "    kollist = create_kollist(M)\n",
    "    max_kol = kollist.max()\n",
    "    deflist = create_deflist(M)\n",
    "    chosen = choose_divide(M, deflist)\n",
    "    chosen = choose_new_divide(M, chosen)\n",
    "    print(chosen, \" left\")\n",
    "    if (chosen != None and chosen !=(0, 0)):\n",
    "        new_a = renew_divider(chosen, M)\n",
    "        subtasks.append(M);"
   ]
  },
  {
   "cell_type": "code",
   "execution_count": 182,
   "metadata": {},
   "outputs": [
    {
     "name": "stdout",
     "output_type": "stream",
     "text": [
      "(2, 4)  right\n",
      "(1, 3)  left\n",
      "(2, 4)  right\n",
      "(3, 4)  left\n",
      "(2, 4)  right\n",
      "(3, 4)  left\n",
      "(2, 4)  right\n",
      "(3, 4)  left\n",
      "(2, 4)  right\n",
      "(3, 4)  left\n",
      "(2, 4)  right\n",
      "(3, 4)  left\n",
      "(2, 4)  right\n",
      "(3, 4)  left\n",
      "(2, 4)  right\n",
      "(3, 4)  left\n"
     ]
    }
   ],
   "source": [
    "#while subtasks != []: \n",
    "M = subtasks.pop()\n",
    "make_right(M)\n",
    "make_left(M)\n",
    "#print(subtasks)\n",
    "M = subtasks.pop()\n",
    "make_right(M)\n",
    "make_left(M)\n",
    "#print(subtasks)\n",
    "M = subtasks.pop()\n",
    "make_right(M)\n",
    "make_left(M)\n",
    "#print(subtasks)\n",
    "M = subtasks.pop()\n",
    "make_right(M)\n",
    "make_left(M)\n",
    "#print(subtasks)\n",
    "M = subtasks.pop()\n",
    "make_right(M)\n",
    "make_left(M)\n",
    "#print(subtasks)\n",
    "M = subtasks.pop()\n",
    "make_right(M)\n",
    "make_left(M)\n",
    "#print(len(subtasks))\n",
    "M = subtasks.pop()\n",
    "make_right(M)\n",
    "make_left(M)\n",
    "\n",
    "M = subtasks.pop()\n",
    "make_right(M)\n",
    "make_left(M)\n"
   ]
  },
  {
   "cell_type": "code",
   "execution_count": null,
   "metadata": {
    "collapsed": true
   },
   "outputs": [],
   "source": []
  },
  {
   "cell_type": "code",
   "execution_count": null,
   "metadata": {
    "collapsed": true
   },
   "outputs": [],
   "source": []
  },
  {
   "cell_type": "code",
   "execution_count": null,
   "metadata": {
    "collapsed": true
   },
   "outputs": [],
   "source": []
  },
  {
   "cell_type": "code",
   "execution_count": null,
   "metadata": {
    "collapsed": true
   },
   "outputs": [],
   "source": []
  },
  {
   "cell_type": "code",
   "execution_count": null,
   "metadata": {
    "collapsed": true
   },
   "outputs": [],
   "source": []
  },
  {
   "cell_type": "code",
   "execution_count": null,
   "metadata": {
    "collapsed": true
   },
   "outputs": [],
   "source": []
  }
 ],
 "metadata": {
  "kernelspec": {
   "display_name": "Python 3",
   "language": "python",
   "name": "python3"
  },
  "language_info": {
   "codemirror_mode": {
    "name": "ipython",
    "version": 3
   },
   "file_extension": ".py",
   "mimetype": "text/x-python",
   "name": "python",
   "nbconvert_exporter": "python",
   "pygments_lexer": "ipython3",
   "version": "3.6.1"
  }
 },
 "nbformat": 4,
 "nbformat_minor": 2
}
